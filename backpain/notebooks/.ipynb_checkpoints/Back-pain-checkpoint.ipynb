{
 "cells": [
  {
   "cell_type": "code",
   "execution_count": 1,
   "metadata": {
    "collapsed": false
   },
   "outputs": [
    {
     "name": "stderr",
     "output_type": "stream",
     "text": [
      "/Users/nullpointer0x00/anaconda2/lib/python2.7/site-packages/sklearn/cross_validation.py:44: DeprecationWarning: This module was deprecated in version 0.18 in favor of the model_selection module into which all the refactored classes and functions are moved. Also note that the interface of the new CV iterators are different from that of this module. This module will be removed in 0.20.\n",
      "  \"This module will be removed in 0.20.\", DeprecationWarning)\n",
      "/Users/nullpointer0x00/anaconda2/lib/python2.7/site-packages/sklearn/grid_search.py:43: DeprecationWarning: This module was deprecated in version 0.18 in favor of the model_selection module into which all the refactored classes and functions are moved. This module will be removed in 0.20.\n",
      "  DeprecationWarning)\n",
      "/Users/nullpointer0x00/anaconda2/lib/python2.7/site-packages/pandas/core/generic.py:1362: UserWarning: The spaces in these column names will not be changed. In pandas versions < 0.14, spaces were converted to underscores.\n",
      "  chunksize=chunksize, dtype=dtype)\n"
     ]
    }
   ],
   "source": [
    "import sys\n",
    "sys.path.append(\"../\")\n",
    "from backpain_helper import BackpainHelper\n",
    "from sklearn import datasets, neighbors, metrics,grid_search, model_selection,cross_validation\n",
    "from sklearn.model_selection import train_test_split, GridSearchCV, cross_val_score, KFold\n",
    "from sklearn.metrics import accuracy_score\n",
    "from sklearn.tree import DecisionTreeClassifier\n",
    "from sklearn.ensemble import RandomForestClassifier\n",
    "\n",
    "import matplotlib.pyplot as plt\n",
    "import pandas as pd\n",
    "import numpy as np\n",
    "import seaborn as sns\n",
    "from pandas.io import sql\n",
    "import sqlite3\n",
    "%matplotlib inline\n",
    "\n",
    "bh = BackpainHelper()\n",
    "df = bh.get_spine_data()\n",
    "\n",
    "columns = ['pelvic_incidence', 'pelvic_tilt','lumbar_lordosis_angle','sacral_slope','pelvic_radius','degree_spondylolisthesis','pelvic_slope','direct_tilt','thoracic_slope','cervical_tilt','sacrum_angle','scoliosis_slope']"
   ]
  },
  {
   "cell_type": "code",
   "execution_count": null,
   "metadata": {
    "collapsed": true
   },
   "outputs": [],
   "source": []
  },
  {
   "cell_type": "code",
   "execution_count": 2,
   "metadata": {
    "collapsed": false
   },
   "outputs": [
    {
     "name": "stdout",
     "output_type": "stream",
     "text": [
      "0.805825242718\n",
      "0.861290322581\n"
     ]
    }
   ],
   "source": [
    "X_train, X_test, y_train, y_test = train_test_split(df[columns], df.classification, test_size=0.33, random_state=42)\n",
    "knn = neighbors.KNeighborsClassifier(n_neighbors=5, weights='uniform')\n",
    "knn.fit(X_train, y_train)\n",
    "pred = knn.predict(X_test)\n",
    "print accuracy_score(y_test, pred)\n",
    "\n",
    "x = [i for i in range(1, 50)]\n",
    "kf = cross_validation.KFold(len(df), n_folds = 5, shuffle=True)\n",
    "gs = grid_search.GridSearchCV(\n",
    "    estimator=neighbors.KNeighborsClassifier(),\n",
    "    param_grid={'n_neighbors': x, 'weights':['uniform', 'distance']},\n",
    "    cv=kf\n",
    ")\n",
    "gs.fit(df[columns], df.classification)\n",
    "# print gs.grid_scores_\n",
    "print gs.best_score_"
   ]
  },
  {
   "cell_type": "code",
   "execution_count": 3,
   "metadata": {
    "collapsed": false
   },
   "outputs": [
    {
     "name": "stdout",
     "output_type": "stream",
     "text": [
      "[ 0.          0.04803343  0.02249932  0.13371574  0.1201284   0.52667951\n",
      "  0.          0.01020907  0.          0.00365886  0.13507567  0.        ]\n"
     ]
    },
    {
     "data": {
      "text/html": [
       "<div>\n",
       "<style>\n",
       "    .dataframe thead tr:only-child th {\n",
       "        text-align: right;\n",
       "    }\n",
       "\n",
       "    .dataframe thead th {\n",
       "        text-align: left;\n",
       "    }\n",
       "\n",
       "    .dataframe tbody tr th {\n",
       "        vertical-align: top;\n",
       "    }\n",
       "</style>\n",
       "<table border=\"1\" class=\"dataframe\">\n",
       "  <thead>\n",
       "    <tr style=\"text-align: right;\">\n",
       "      <th></th>\n",
       "      <th>Features</th>\n",
       "      <th>Importance Score</th>\n",
       "    </tr>\n",
       "  </thead>\n",
       "  <tbody>\n",
       "    <tr>\n",
       "      <th>5</th>\n",
       "      <td>degree_spondylolisthesis</td>\n",
       "      <td>0.526680</td>\n",
       "    </tr>\n",
       "    <tr>\n",
       "      <th>10</th>\n",
       "      <td>sacrum_angle</td>\n",
       "      <td>0.135076</td>\n",
       "    </tr>\n",
       "    <tr>\n",
       "      <th>3</th>\n",
       "      <td>sacral_slope</td>\n",
       "      <td>0.133716</td>\n",
       "    </tr>\n",
       "    <tr>\n",
       "      <th>4</th>\n",
       "      <td>pelvic_radius</td>\n",
       "      <td>0.120128</td>\n",
       "    </tr>\n",
       "    <tr>\n",
       "      <th>1</th>\n",
       "      <td>pelvic_tilt</td>\n",
       "      <td>0.048033</td>\n",
       "    </tr>\n",
       "    <tr>\n",
       "      <th>2</th>\n",
       "      <td>lumbar_lordosis_angle</td>\n",
       "      <td>0.022499</td>\n",
       "    </tr>\n",
       "    <tr>\n",
       "      <th>7</th>\n",
       "      <td>direct_tilt</td>\n",
       "      <td>0.010209</td>\n",
       "    </tr>\n",
       "    <tr>\n",
       "      <th>9</th>\n",
       "      <td>cervical_tilt</td>\n",
       "      <td>0.003659</td>\n",
       "    </tr>\n",
       "    <tr>\n",
       "      <th>0</th>\n",
       "      <td>pelvic_incidence</td>\n",
       "      <td>0.000000</td>\n",
       "    </tr>\n",
       "    <tr>\n",
       "      <th>6</th>\n",
       "      <td>pelvic_slope</td>\n",
       "      <td>0.000000</td>\n",
       "    </tr>\n",
       "    <tr>\n",
       "      <th>8</th>\n",
       "      <td>thoracic_slope</td>\n",
       "      <td>0.000000</td>\n",
       "    </tr>\n",
       "    <tr>\n",
       "      <th>11</th>\n",
       "      <td>scoliosis_slope</td>\n",
       "      <td>0.000000</td>\n",
       "    </tr>\n",
       "  </tbody>\n",
       "</table>\n",
       "</div>"
      ],
      "text/plain": [
       "                    Features  Importance Score\n",
       "5   degree_spondylolisthesis          0.526680\n",
       "10              sacrum_angle          0.135076\n",
       "3               sacral_slope          0.133716\n",
       "4              pelvic_radius          0.120128\n",
       "1                pelvic_tilt          0.048033\n",
       "2      lumbar_lordosis_angle          0.022499\n",
       "7                direct_tilt          0.010209\n",
       "9              cervical_tilt          0.003659\n",
       "0           pelvic_incidence          0.000000\n",
       "6               pelvic_slope          0.000000\n",
       "8             thoracic_slope          0.000000\n",
       "11           scoliosis_slope          0.000000"
      ]
     },
     "execution_count": 3,
     "metadata": {},
     "output_type": "execute_result"
    }
   ],
   "source": [
    "from sklearn.tree import export_graphviz\n",
    "from os import system \n",
    "def build_tree_image(model):\n",
    "    dotfile = open(\"tree.dot\", 'w')\n",
    "    export_graphviz(model,\n",
    "                              out_file = dotfile,\n",
    "                              feature_names = columns)\n",
    "    dotfile.close()\n",
    "    system(\"dot -Tpng tree.dot -o tree.png\")\n",
    "    \n",
    "\n",
    "model = DecisionTreeClassifier(\n",
    "                max_depth = 16,\n",
    "                min_samples_leaf = 5)\n",
    "\n",
    "model.fit(df[columns], df.classification)\n",
    "build_tree_image(model)\n",
    "features = df[columns]\n",
    "feature_importances = model.feature_importances_\n",
    "print feature_importances\n",
    "features_df = pd.DataFrame({'Features': columns, 'Importance Score': feature_importances})\n",
    "features_df.sort_values('Importance Score', inplace=True, ascending=False)\n",
    "features_df.head(12)"
   ]
  },
  {
   "cell_type": "code",
   "execution_count": 4,
   "metadata": {
    "collapsed": false
   },
   "outputs": [
    {
     "name": "stdout",
     "output_type": "stream",
     "text": [
      "0.845161290323\n"
     ]
    }
   ],
   "source": [
    "model = RandomForestClassifier(n_estimators = 20)\n",
    "    \n",
    "model.fit(df[columns], df.classification)\n",
    "\n",
    "kf = cross_validation.KFold(len(df), n_folds = 5, shuffle=True)\n",
    "gs = grid_search.GridSearchCV(\n",
    "    estimator=neighbors.KNeighborsClassifier(),\n",
    "    param_grid={'n_neighbors': x, 'weights':['uniform', 'distance']},\n",
    "    cv=kf\n",
    ")\n",
    "gs.fit(df[columns], df.classification)\n",
    "# print gs.grid_scores_\n",
    "print gs.best_score_"
   ]
  },
  {
   "cell_type": "code",
   "execution_count": 5,
   "metadata": {
    "collapsed": false
   },
   "outputs": [
    {
     "name": "stdout",
     "output_type": "stream",
     "text": [
      "[mean: 0.83871, std: 0.05301, params: {}]\n",
      "0.838709677419\n"
     ]
    }
   ],
   "source": [
    "from sklearn.linear_model import LogisticRegression\n",
    "logistic = LogisticRegression()\n",
    "logistic.fit(df[columns], df.classification)\n",
    "\n",
    "kf = cross_validation.KFold(len(df), n_folds = 5, shuffle=True)\n",
    "gs = grid_search.GridSearchCV(\n",
    "    estimator=LogisticRegression(),\n",
    "    param_grid={},\n",
    "    cv=kf\n",
    ")\n",
    "gs.fit(df[columns], df.classification)\n",
    "print gs.grid_scores_\n",
    "print gs.best_score_"
   ]
  },
  {
   "cell_type": "code",
   "execution_count": 6,
   "metadata": {
    "collapsed": false
   },
   "outputs": [
    {
     "data": {
      "text/plain": [
       "array([[  7.40108067e-01,   2.59891933e-01],\n",
       "       [  1.58300321e-01,   8.41699679e-01],\n",
       "       [  5.96067933e-01,   4.03932067e-01],\n",
       "       [  3.25906749e-02,   9.67409325e-01],\n",
       "       [  1.82150474e-01,   8.17849526e-01],\n",
       "       [  2.15064255e-01,   7.84935745e-01],\n",
       "       [  1.65644815e-02,   9.83435518e-01],\n",
       "       [  1.74533656e-01,   8.25466344e-01],\n",
       "       [  2.80510896e-01,   7.19489104e-01],\n",
       "       [  2.14365465e-01,   7.85634535e-01],\n",
       "       [  4.68030891e-06,   9.99995320e-01],\n",
       "       [  8.57843992e-04,   9.99142156e-01],\n",
       "       [  7.21007857e-01,   2.78992143e-01],\n",
       "       [  7.68049838e-01,   2.31950162e-01],\n",
       "       [  6.61654579e-01,   3.38345421e-01],\n",
       "       [  5.42765645e-01,   4.57234355e-01],\n",
       "       [  6.46046007e-01,   3.53953993e-01],\n",
       "       [  8.37914301e-03,   9.91620857e-01],\n",
       "       [  2.92386000e-01,   7.07614000e-01],\n",
       "       [  4.62711911e-03,   9.95372881e-01],\n",
       "       [  3.44047483e-02,   9.65595252e-01],\n",
       "       [  3.33570292e-04,   9.99666430e-01],\n",
       "       [  4.04555259e-03,   9.95954447e-01],\n",
       "       [  5.87171506e-05,   9.99941283e-01],\n",
       "       [  2.13290073e-04,   9.99786710e-01],\n",
       "       [  3.41106881e-02,   9.65889312e-01],\n",
       "       [  8.39599080e-03,   9.91604009e-01],\n",
       "       [  5.34297411e-01,   4.65702589e-01],\n",
       "       [  8.95580801e-01,   1.04419199e-01],\n",
       "       [  9.41542382e-01,   5.84576180e-02],\n",
       "       [  9.43765760e-02,   9.05623424e-01],\n",
       "       [  1.07972183e-01,   8.92027817e-01],\n",
       "       [  1.71092583e-02,   9.82890742e-01],\n",
       "       [  5.07656552e-01,   4.92343448e-01],\n",
       "       [  1.83125609e-02,   9.81687439e-01],\n",
       "       [  1.06711008e-01,   8.93288992e-01],\n",
       "       [  4.20429581e-01,   5.79570419e-01],\n",
       "       [  8.58880447e-01,   1.41119553e-01],\n",
       "       [  1.92692687e-05,   9.99980731e-01],\n",
       "       [  8.33955359e-02,   9.16604464e-01],\n",
       "       [  3.84700320e-01,   6.15299680e-01],\n",
       "       [  2.24681259e-01,   7.75318741e-01],\n",
       "       [  4.90746396e-04,   9.99509254e-01],\n",
       "       [  8.30915722e-01,   1.69084278e-01],\n",
       "       [  6.97315985e-01,   3.02684015e-01],\n",
       "       [  3.50772020e-03,   9.96492280e-01],\n",
       "       [  8.88600911e-01,   1.11399089e-01],\n",
       "       [  8.22883401e-01,   1.77116599e-01],\n",
       "       [  6.49691357e-01,   3.50308643e-01],\n",
       "       [  2.48056422e-02,   9.75194358e-01],\n",
       "       [  1.41160329e-03,   9.98588397e-01],\n",
       "       [  8.28657800e-01,   1.71342200e-01],\n",
       "       [  2.01352330e-03,   9.97986477e-01],\n",
       "       [  2.01321803e-03,   9.97986782e-01],\n",
       "       [  2.97207412e-02,   9.70279259e-01],\n",
       "       [  6.83598235e-01,   3.16401765e-01],\n",
       "       [  3.73568229e-01,   6.26431771e-01],\n",
       "       [  1.74394013e-01,   8.25605987e-01],\n",
       "       [  2.74092849e-01,   7.25907151e-01],\n",
       "       [  2.72873095e-01,   7.27126905e-01],\n",
       "       [  5.92283009e-01,   4.07716991e-01],\n",
       "       [  5.57401683e-02,   9.44259832e-01],\n",
       "       [  6.63581772e-02,   9.33641823e-01],\n",
       "       [  2.41499108e-01,   7.58500892e-01],\n",
       "       [  4.22227329e-01,   5.77772671e-01],\n",
       "       [  5.65114772e-01,   4.34885228e-01],\n",
       "       [  1.18371030e-04,   9.99881629e-01],\n",
       "       [  6.87335504e-02,   9.31266450e-01],\n",
       "       [  3.80170571e-01,   6.19829429e-01],\n",
       "       [  4.33464520e-01,   5.66535480e-01],\n",
       "       [  4.04379304e-01,   5.95620696e-01],\n",
       "       [  4.84732347e-01,   5.15267653e-01],\n",
       "       [  1.93402675e-03,   9.98065973e-01],\n",
       "       [  2.31001845e-01,   7.68998155e-01],\n",
       "       [  1.09739303e-01,   8.90260697e-01],\n",
       "       [  7.09428195e-01,   2.90571805e-01],\n",
       "       [  5.43867478e-01,   4.56132522e-01],\n",
       "       [  7.19442277e-02,   9.28055772e-01],\n",
       "       [  1.42043858e-01,   8.57956142e-01],\n",
       "       [  1.35780903e-02,   9.86421910e-01],\n",
       "       [  9.47479203e-01,   5.25207975e-02],\n",
       "       [  1.77611438e-01,   8.22388562e-01],\n",
       "       [  1.10239335e-01,   8.89760665e-01],\n",
       "       [  6.09769582e-02,   9.39023042e-01],\n",
       "       [  5.17198711e-02,   9.48280129e-01],\n",
       "       [  5.32742413e-01,   4.67257587e-01],\n",
       "       [  2.47873815e-01,   7.52126185e-01],\n",
       "       [  3.03539008e-02,   9.69646099e-01],\n",
       "       [  5.54681334e-02,   9.44531867e-01],\n",
       "       [  9.52572598e-01,   4.74274016e-02],\n",
       "       [  4.63770889e-01,   5.36229111e-01],\n",
       "       [  2.37704651e-03,   9.97622953e-01],\n",
       "       [  2.09075331e-01,   7.90924669e-01],\n",
       "       [  1.87724304e-01,   8.12275696e-01],\n",
       "       [  6.92240545e-01,   3.07759455e-01],\n",
       "       [  4.32639902e-03,   9.95673601e-01],\n",
       "       [  6.20641662e-01,   3.79358338e-01],\n",
       "       [  6.08745505e-01,   3.91254495e-01],\n",
       "       [  7.29374019e-01,   2.70625981e-01],\n",
       "       [  8.12751492e-01,   1.87248508e-01],\n",
       "       [  7.21029646e-02,   9.27897035e-01],\n",
       "       [  6.73795180e-01,   3.26204820e-01],\n",
       "       [  7.85482111e-01,   2.14517889e-01]])"
      ]
     },
     "execution_count": 6,
     "metadata": {},
     "output_type": "execute_result"
    }
   ],
   "source": [
    "from sklearn.pipeline import Pipeline\n",
    "from sklearn.preprocessing import StandardScaler\n",
    "from sklearn.linear_model import LogisticRegression\n",
    "from sklearn.cross_validation import train_test_split\n",
    "\n",
    "scaler = StandardScaler()\n",
    "logistic_model = LogisticRegression()\n",
    "\n",
    "modeling_pipe = Pipeline([('scale',scaler),('model',logistic_model)])\n",
    "modeling_pipe.set_params(model__C = 1).fit(X_train,y_train)\n",
    "modeling_pipe.predict(X_train)\n",
    "modeling_pipe.predict(X_test)\n",
    "modeling_pipe.predict_proba(X_test)"
   ]
  },
  {
   "cell_type": "code",
   "execution_count": 3,
   "metadata": {
    "collapsed": false
   },
   "outputs": [
    {
     "name": "stdout",
     "output_type": "stream",
     "text": [
      "0.833333333333\n",
      "0.833333333333\n",
      "0.74025974026\n",
      "0.818181818182\n"
     ]
    },
    {
     "ename": "IndexError",
     "evalue": "index 4 is out of bounds for axis 0 with size 4",
     "output_type": "error",
     "traceback": [
      "\u001b[0;31m---------------------------------------------------------------------------\u001b[0m",
      "\u001b[0;31mIndexError\u001b[0m                                Traceback (most recent call last)",
      "\u001b[0;32m<ipython-input-3-279525e72f27>\u001b[0m in \u001b[0;36m<module>\u001b[0;34m()\u001b[0m\n\u001b[1;32m      2\u001b[0m \u001b[0mX_data\u001b[0m \u001b[0;34m=\u001b[0m \u001b[0mdf\u001b[0m\u001b[0;34m[\u001b[0m\u001b[0mcolumns\u001b[0m\u001b[0;34m]\u001b[0m\u001b[0;34m\u001b[0m\u001b[0m\n\u001b[1;32m      3\u001b[0m \u001b[0my_data\u001b[0m \u001b[0;34m=\u001b[0m \u001b[0mdf\u001b[0m\u001b[0;34m.\u001b[0m\u001b[0mclassification\u001b[0m\u001b[0;34m\u001b[0m\u001b[0m\n\u001b[0;32m----> 4\u001b[0;31m \u001b[0mbh\u001b[0m\u001b[0;34m.\u001b[0m\u001b[0mnested_cross_val_KNN\u001b[0m\u001b[0;34m(\u001b[0m\u001b[0mX_data\u001b[0m\u001b[0;34m,\u001b[0m \u001b[0my_data\u001b[0m\u001b[0;34m,\u001b[0m \u001b[0;36m50\u001b[0m\u001b[0;34m)\u001b[0m\u001b[0;34m\u001b[0m\u001b[0m\n\u001b[0m",
      "\u001b[0;32m/Users/nullpointer0x00/myproject/ds-sfb/backpain/backpain_helper.py\u001b[0m in \u001b[0;36mnested_cross_val_KNN\u001b[0;34m(self, X, y, n_trials)\u001b[0m\n\u001b[1;32m     76\u001b[0m             \u001b[0mnested_score\u001b[0m \u001b[0;34m=\u001b[0m \u001b[0mcross_val_score\u001b[0m\u001b[0;34m(\u001b[0m\u001b[0mclf\u001b[0m\u001b[0;34m,\u001b[0m \u001b[0mX\u001b[0m\u001b[0;34m=\u001b[0m\u001b[0mX_data\u001b[0m\u001b[0;34m,\u001b[0m \u001b[0my\u001b[0m\u001b[0;34m=\u001b[0m\u001b[0my_data\u001b[0m\u001b[0;34m,\u001b[0m \u001b[0mcv\u001b[0m\u001b[0;34m=\u001b[0m\u001b[0mouter_cv\u001b[0m\u001b[0;34m)\u001b[0m\u001b[0;34m\u001b[0m\u001b[0m\n\u001b[1;32m     77\u001b[0m             \u001b[0mnested_scores\u001b[0m\u001b[0;34m[\u001b[0m\u001b[0mi\u001b[0m\u001b[0;34m]\u001b[0m \u001b[0;34m=\u001b[0m \u001b[0mnested_score\u001b[0m\u001b[0;34m.\u001b[0m\u001b[0mmean\u001b[0m\u001b[0;34m(\u001b[0m\u001b[0;34m)\u001b[0m\u001b[0;34m\u001b[0m\u001b[0m\n\u001b[0;32m---> 78\u001b[0;31m             \u001b[0;32mprint\u001b[0m \u001b[0mnested_score\u001b[0m\u001b[0;34m[\u001b[0m\u001b[0mi\u001b[0m\u001b[0;34m]\u001b[0m\u001b[0;34m\u001b[0m\u001b[0m\n\u001b[0m\u001b[1;32m     79\u001b[0m \u001b[0;34m\u001b[0m\u001b[0m\n\u001b[1;32m     80\u001b[0m         \u001b[0mscore_difference\u001b[0m \u001b[0;34m=\u001b[0m \u001b[0mnon_nested_scores\u001b[0m \u001b[0;34m-\u001b[0m \u001b[0mnested_scores\u001b[0m\u001b[0;34m\u001b[0m\u001b[0m\n",
      "\u001b[0;31mIndexError\u001b[0m: index 4 is out of bounds for axis 0 with size 4"
     ]
    }
   ],
   "source": [
    "df = bh.get_spine_data()\n",
    "X_data = df[columns]\n",
    "y_data = df.classification\n",
    "model = neighbors.KNeighborsClassifier()\n",
    "param_grid = {'n_neighbors': [5], 'weights': ['uniform']}\n",
    "print bh.nested_cross_val_KNN(model, X_data, y_data, param_grid, 4, 50)"
   ]
  },
  {
   "cell_type": "code",
   "execution_count": null,
   "metadata": {
    "collapsed": true
   },
   "outputs": [],
   "source": []
  },
  {
   "cell_type": "code",
   "execution_count": 88,
   "metadata": {
    "collapsed": false
   },
   "outputs": [],
   "source": []
  }
 ],
 "metadata": {
  "anaconda-cloud": {},
  "kernelspec": {
   "display_name": "Python [default]",
   "language": "python",
   "name": "python2"
  },
  "language_info": {
   "codemirror_mode": {
    "name": "ipython",
    "version": 2
   },
   "file_extension": ".py",
   "mimetype": "text/x-python",
   "name": "python",
   "nbconvert_exporter": "python",
   "pygments_lexer": "ipython2",
   "version": "2.7.12"
  }
 },
 "nbformat": 4,
 "nbformat_minor": 0
}
