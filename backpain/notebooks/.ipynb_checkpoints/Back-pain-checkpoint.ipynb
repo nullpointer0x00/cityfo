{
 "cells": [
  {
   "cell_type": "code",
   "execution_count": 91,
   "metadata": {
    "collapsed": false
   },
   "outputs": [],
   "source": [
    "import sys\n",
    "sys.path.append(\"../\")\n",
    "from backpain_helper import BackpainHelper\n",
    "from sklearn import datasets, neighbors, metrics,grid_search, model_selection,cross_validation\n",
    "from sklearn.model_selection import train_test_split, GridSearchCV, cross_val_score, KFold\n",
    "from sklearn.metrics import accuracy_score\n",
    "from sklearn.tree import DecisionTreeClassifier\n",
    "from sklearn.ensemble import RandomForestClassifier\n",
    "from sklearn.decomposition import PCA\n",
    "from sklearn.pipeline import Pipeline\n",
    "from sklearn.preprocessing import StandardScaler\n",
    "from sklearn.linear_model import LogisticRegression\n",
    "from sklearn.cross_validation import train_test_split\n",
    "\n",
    "import matplotlib.pyplot as plt\n",
    "import pandas as pd\n",
    "import numpy as np\n",
    "import seaborn as sns\n",
    "from pandas.io import sql\n",
    "import sqlite3\n",
    "%matplotlib inline\n"
   ]
  },
  {
   "cell_type": "markdown",
   "metadata": {},
   "source": [
    "## Finding the best model\n",
    "\n",
    "In this notebook, I ran my data through three models KNN, Random Trees, Logistic Regression, and Scaler Logistic Regression with normal cross validation and nested cross validation.  The best fit model was Scaler Logistic Regression with a best fit of 0.838.  The features with the most influence are degree_spondylolisthesis, pelvic_radius, sacral_slope, and pelvic_tilt.  The chart is at the end of the notebook.\n",
    "\n",
    "I created a helper file to make things resuable and clearer to read in the notebooks.  You can find that here: [backpain_helper.py](https://github.com/nullpointer0x00/ds-sfb/blob/master/backpain/backpain_helper.py)\n",
    "\n",
    "Also, I was able to find the proper way to extract the coef from a model inside a pipeline.  It was easier to read the properties once I put it in the PyCharms debugger.  \n",
    "\n",
    "```\n",
    "gs.best_estimator_.named_steps['model'].coef_\n",
    "```"
   ]
  },
  {
   "cell_type": "markdown",
   "metadata": {},
   "source": [
    "### Loading Dataframe from Helper file(this reads from a csv file and loads it into a sqlite database)"
   ]
  },
  {
   "cell_type": "code",
   "execution_count": 92,
   "metadata": {
    "collapsed": true
   },
   "outputs": [],
   "source": [
    "bh = BackpainHelper()\n",
    "df = bh.get_spine_data()\n",
    "\n",
    "columns = ['pelvic_incidence', 'pelvic_tilt','lumbar_lordosis_angle','sacral_slope','pelvic_radius','degree_spondylolisthesis','pelvic_slope','direct_tilt','thoracic_slope','cervical_tilt','sacrum_angle','scoliosis_slope']"
   ]
  },
  {
   "cell_type": "markdown",
   "metadata": {},
   "source": [
    "### Best Score from range 1 - 50 of neighbors"
   ]
  },
  {
   "cell_type": "code",
   "execution_count": 136,
   "metadata": {
    "collapsed": false
   },
   "outputs": [
    {
     "name": "stdout",
     "output_type": "stream",
     "text": [
      "KNeighborsClassifier(algorithm='auto', leaf_size=30, metric='minkowski',\n",
      "           metric_params=None, n_jobs=1, n_neighbors=6, p=2,\n",
      "           weights='distance')\n",
      "0.841935483871\n"
     ]
    }
   ],
   "source": [
    "x = [i for i in range(1, 50)]\n",
    "kf = cross_validation.KFold(len(df), n_folds = 5, shuffle=True)\n",
    "gs = grid_search.GridSearchCV(\n",
    "    estimator=neighbors.KNeighborsClassifier(),\n",
    "    param_grid={'n_neighbors': x, 'weights':['uniform', 'distance']},\n",
    "    cv=kf\n",
    ")\n",
    "gs.fit(df[columns], df.classification)\n",
    "print gs.best_estimator_\n",
    "print gs.best_score_"
   ]
  },
  {
   "cell_type": "markdown",
   "metadata": {},
   "source": [
    "### Random Forest with 5 neighbors and distance as a weight"
   ]
  },
  {
   "cell_type": "code",
   "execution_count": 140,
   "metadata": {
    "collapsed": false
   },
   "outputs": [
    {
     "name": "stdout",
     "output_type": "stream",
     "text": [
      "0.81935483871\n"
     ]
    }
   ],
   "source": [
    "model = RandomForestClassifier(n_estimators = 20)\n",
    "    \n",
    "model.fit(df[columns], df.classification)\n",
    "\n",
    "kf = cross_validation.KFold(len(df), n_folds = 5, shuffle=True)\n",
    "gs = grid_search.GridSearchCV(\n",
    "    estimator=neighbors.KNeighborsClassifier(),\n",
    "    param_grid={'n_neighbors': [5], 'weights':['distance']},\n",
    "    cv=kf\n",
    ")\n",
    "\n",
    "gs.fit(df[columns], df.classification)\n",
    "# print gs.grid_scores_\n",
    "print gs.best_score_"
   ]
  },
  {
   "cell_type": "markdown",
   "metadata": {},
   "source": [
    "## Logistic Regression with logspace -10 -> 10, 21 points"
   ]
  },
  {
   "cell_type": "code",
   "execution_count": 142,
   "metadata": {
    "collapsed": false
   },
   "outputs": [
    {
     "name": "stdout",
     "output_type": "stream",
     "text": [
      "[mean: 0.67742, std: 0.07967, params: {'C': 1e-10}, mean: 0.67742, std: 0.07967, params: {'C': 1.0000000000000001e-09}, mean: 0.67742, std: 0.07967, params: {'C': 1e-08}, mean: 0.67742, std: 0.07967, params: {'C': 9.9999999999999995e-08}, mean: 0.67742, std: 0.07967, params: {'C': 9.9999999999999995e-07}, mean: 0.67419, std: 0.08122, params: {'C': 1.0000000000000001e-05}, mean: 0.75484, std: 0.05141, params: {'C': 0.0001}, mean: 0.80645, std: 0.04997, params: {'C': 0.001}, mean: 0.82903, std: 0.04630, params: {'C': 0.01}, mean: 0.83226, std: 0.04630, params: {'C': 0.10000000000000001}, mean: 0.83871, std: 0.04785, params: {'C': 1.0}, mean: 0.83548, std: 0.04719, params: {'C': 10.0}, mean: 0.84516, std: 0.03321, params: {'C': 100.0}, mean: 0.84839, std: 0.03474, params: {'C': 1000.0}, mean: 0.84516, std: 0.03898, params: {'C': 10000.0}, mean: 0.84516, std: 0.03321, params: {'C': 100000.0}, mean: 0.84516, std: 0.03898, params: {'C': 1000000.0}, mean: 0.84516, std: 0.03321, params: {'C': 10000000.0}, mean: 0.84516, std: 0.03321, params: {'C': 100000000.0}, mean: 0.84839, std: 0.03474, params: {'C': 1000000000.0}, mean: 0.84516, std: 0.03898, params: {'C': 10000000000.0}]\n",
      "LogisticRegression(C=1000.0, class_weight=None, dual=False,\n",
      "          fit_intercept=True, intercept_scaling=1, max_iter=100,\n",
      "          multi_class='ovr', n_jobs=1, penalty='l2', random_state=None,\n",
      "          solver='liblinear', tol=0.0001, verbose=0, warm_start=False)\n",
      "0.848387096774\n"
     ]
    }
   ],
   "source": [
    "logistic = LogisticRegression()\n",
    "logistic.fit(df[columns], df.classification)\n",
    "\n",
    "alphas = np.logspace(-10,10,21)\n",
    "kf = cross_validation.KFold(len(df), n_folds = 5, shuffle=True)\n",
    "gs = grid_search.GridSearchCV(\n",
    "    estimator=LogisticRegression(),\n",
    "    param_grid={'C': alphas},\n",
    "    cv=kf\n",
    ")\n",
    "gs.fit(df[columns], df.classification)\n",
    "print gs.grid_scores_\n",
    "print gs.best_estimator_\n",
    "print gs.best_score_"
   ]
  },
  {
   "cell_type": "markdown",
   "metadata": {},
   "source": [
    "### KNN Classifier using nested grid search"
   ]
  },
  {
   "cell_type": "code",
   "execution_count": 143,
   "metadata": {
    "collapsed": false
   },
   "outputs": [
    {
     "name": "stdout",
     "output_type": "stream",
     "text": [
      "0.82285048285\n"
     ]
    }
   ],
   "source": [
    "df = bh.get_spine_data()\n",
    "X_data = df[columns]\n",
    "y_data = df.classification\n",
    "model = neighbors.KNeighborsClassifier()\n",
    "param_grid = {'n_neighbors': [5], 'weights': ['uniform']}\n",
    "print bh.nested_cross_val(model, X_data, y_data, param_grid, 4, 50).mean()"
   ]
  },
  {
   "cell_type": "markdown",
   "metadata": {},
   "source": [
    "### Random Forest Classifier using nested grid search"
   ]
  },
  {
   "cell_type": "code",
   "execution_count": 64,
   "metadata": {
    "collapsed": false
   },
   "outputs": [
    {
     "name": "stdout",
     "output_type": "stream",
     "text": [
      "0.812977022977\n"
     ]
    }
   ],
   "source": [
    "model = RandomForestClassifier(n_estimators = 20)\n",
    "param_grid = {}\n",
    "print bh.nested_cross_val(model, X_data, y_data, param_grid, 4, 50).mean()"
   ]
  },
  {
   "cell_type": "markdown",
   "metadata": {},
   "source": [
    "### Logistic Regression using nested grid search and log space"
   ]
  },
  {
   "cell_type": "code",
   "execution_count": 114,
   "metadata": {
    "collapsed": false
   },
   "outputs": [
    {
     "name": "stdout",
     "output_type": "stream",
     "text": [
      "0.836576756577\n"
     ]
    }
   ],
   "source": [
    "model = LogisticRegression()\n",
    "alphas = np.logspace(-10,10,21)\n",
    "param_grid = {'C':alphas}\n",
    "print bh.nested_cross_val(model, X_data, y_data, param_grid, 4, 50).mean()"
   ]
  },
  {
   "cell_type": "markdown",
   "metadata": {},
   "source": [
    "### Standard Scaler Logistic Regression Pipeline using grid search"
   ]
  },
  {
   "cell_type": "code",
   "execution_count": 135,
   "metadata": {
    "collapsed": false
   },
   "outputs": [
    {
     "name": "stdout",
     "output_type": "stream",
     "text": [
      "0.83801032301\n"
     ]
    }
   ],
   "source": [
    "scaler = StandardScaler()\n",
    "logistic_model = LogisticRegression()\n",
    "modeling_pipe = Pipeline([('scale',scaler),('model',logistic_model)])\n",
    "modeling_pipe.set_params(model__C = 1)\n",
    "print bh.nested_cross_val(modeling_pipe, X_data, y_data, {}, 4, 50).mean()"
   ]
  },
  {
   "cell_type": "markdown",
   "metadata": {},
   "source": [
    "### Pipeline(Scaler/Logistic Regression) is the best estimator, Determining the important features "
   ]
  },
  {
   "cell_type": "code",
   "execution_count": 209,
   "metadata": {
    "collapsed": false
   },
   "outputs": [
    {
     "name": "stdout",
     "output_type": "stream",
     "text": [
      "[  1.63411632e-01   6.69125523e-01   1.84721266e-01   7.08739084e-01\n",
      "   1.08979223e+00   3.85496688e+00   1.99457381e-03   5.99269424e-02\n",
      "   1.15454718e-01   1.35494019e-01   1.84844581e-02   9.82467627e-02]\n"
     ]
    },
    {
     "data": {
      "text/html": [
       "<div>\n",
       "<style>\n",
       "    .dataframe thead tr:only-child th {\n",
       "        text-align: right;\n",
       "    }\n",
       "\n",
       "    .dataframe thead th {\n",
       "        text-align: left;\n",
       "    }\n",
       "\n",
       "    .dataframe tbody tr th {\n",
       "        vertical-align: top;\n",
       "    }\n",
       "</style>\n",
       "<table border=\"1\" class=\"dataframe\">\n",
       "  <thead>\n",
       "    <tr style=\"text-align: right;\">\n",
       "      <th></th>\n",
       "      <th>Features</th>\n",
       "      <th>Importance Score</th>\n",
       "    </tr>\n",
       "  </thead>\n",
       "  <tbody>\n",
       "    <tr>\n",
       "      <th>5</th>\n",
       "      <td>degree_spondylolisthesis</td>\n",
       "      <td>3.854967</td>\n",
       "    </tr>\n",
       "    <tr>\n",
       "      <th>4</th>\n",
       "      <td>pelvic_radius</td>\n",
       "      <td>1.089792</td>\n",
       "    </tr>\n",
       "    <tr>\n",
       "      <th>3</th>\n",
       "      <td>sacral_slope</td>\n",
       "      <td>0.708739</td>\n",
       "    </tr>\n",
       "    <tr>\n",
       "      <th>1</th>\n",
       "      <td>pelvic_tilt</td>\n",
       "      <td>0.669126</td>\n",
       "    </tr>\n",
       "    <tr>\n",
       "      <th>2</th>\n",
       "      <td>lumbar_lordosis_angle</td>\n",
       "      <td>0.184721</td>\n",
       "    </tr>\n",
       "    <tr>\n",
       "      <th>0</th>\n",
       "      <td>pelvic_incidence</td>\n",
       "      <td>0.163412</td>\n",
       "    </tr>\n",
       "    <tr>\n",
       "      <th>9</th>\n",
       "      <td>cervical_tilt</td>\n",
       "      <td>0.135494</td>\n",
       "    </tr>\n",
       "    <tr>\n",
       "      <th>8</th>\n",
       "      <td>thoracic_slope</td>\n",
       "      <td>0.115455</td>\n",
       "    </tr>\n",
       "    <tr>\n",
       "      <th>11</th>\n",
       "      <td>scoliosis_slope</td>\n",
       "      <td>0.098247</td>\n",
       "    </tr>\n",
       "    <tr>\n",
       "      <th>7</th>\n",
       "      <td>direct_tilt</td>\n",
       "      <td>0.059927</td>\n",
       "    </tr>\n",
       "    <tr>\n",
       "      <th>10</th>\n",
       "      <td>sacrum_angle</td>\n",
       "      <td>0.018484</td>\n",
       "    </tr>\n",
       "    <tr>\n",
       "      <th>6</th>\n",
       "      <td>pelvic_slope</td>\n",
       "      <td>0.001995</td>\n",
       "    </tr>\n",
       "  </tbody>\n",
       "</table>\n",
       "</div>"
      ],
      "text/plain": [
       "                    Features  Importance Score\n",
       "5   degree_spondylolisthesis          3.854967\n",
       "4              pelvic_radius          1.089792\n",
       "3               sacral_slope          0.708739\n",
       "1                pelvic_tilt          0.669126\n",
       "2      lumbar_lordosis_angle          0.184721\n",
       "0           pelvic_incidence          0.163412\n",
       "9              cervical_tilt          0.135494\n",
       "8             thoracic_slope          0.115455\n",
       "11           scoliosis_slope          0.098247\n",
       "7                direct_tilt          0.059927\n",
       "10              sacrum_angle          0.018484\n",
       "6               pelvic_slope          0.001995"
      ]
     },
     "execution_count": 209,
     "metadata": {},
     "output_type": "execute_result"
    }
   ],
   "source": [
    "kf = cross_validation.KFold(len(df), n_folds = 5, shuffle=True)\n",
    "gs = grid_search.GridSearchCV(\n",
    "    estimator=modeling_pipe,\n",
    "    param_grid={},\n",
    "    cv=kf\n",
    ")\n",
    "gs.fit(df[columns], df.classification)\n",
    "features = df[columns]\n",
    "feature_importances = np.absolute(gs.best_estimator_.named_steps['model'].coef_)[0]\n",
    "print feature_importances\n",
    "features_df = pd.DataFrame({'Features': columns, 'Importance Score': feature_importances})\n",
    "features_df.sort_values('Importance Score', inplace=True, ascending=False)\n",
    "features_df.head(12)"
   ]
  },
  {
   "cell_type": "code",
   "execution_count": 132,
   "metadata": {
    "collapsed": false
   },
   "outputs": [
    {
     "name": "stdout",
     "output_type": "stream",
     "text": [
      "(207, 7)\n",
      "[-20.58740471 -19.55593929  -1.11701999 -13.92992031  12.60374062\n",
      "  -0.57947982   5.79299672]\n"
     ]
    }
   ],
   "source": [
    "pca = PCA(n_components = .95, svd_solver = 'full')\n",
    "X_digits_transf = pca.fit_transform(X_train)\n",
    "print X_digits_transf.shape\n",
    "print X_digits_transf[1,:]"
   ]
  }
 ],
 "metadata": {
  "anaconda-cloud": {},
  "kernelspec": {
   "display_name": "Python [default]",
   "language": "python",
   "name": "python2"
  },
  "language_info": {
   "codemirror_mode": {
    "name": "ipython",
    "version": 2
   },
   "file_extension": ".py",
   "mimetype": "text/x-python",
   "name": "python",
   "nbconvert_exporter": "python",
   "pygments_lexer": "ipython2",
   "version": "2.7.12"
  }
 },
 "nbformat": 4,
 "nbformat_minor": 0
}
