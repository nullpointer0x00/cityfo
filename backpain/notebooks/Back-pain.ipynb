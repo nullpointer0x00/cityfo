{
 "cells": [
  {
   "cell_type": "code",
   "execution_count": 1,
   "metadata": {
    "collapsed": false
   },
   "outputs": [
    {
     "name": "stderr",
     "output_type": "stream",
     "text": [
      "/Users/nullpointer0x00/anaconda2/lib/python2.7/site-packages/sklearn/cross_validation.py:44: DeprecationWarning: This module was deprecated in version 0.18 in favor of the model_selection module into which all the refactored classes and functions are moved. Also note that the interface of the new CV iterators are different from that of this module. This module will be removed in 0.20.\n",
      "  \"This module will be removed in 0.20.\", DeprecationWarning)\n",
      "/Users/nullpointer0x00/anaconda2/lib/python2.7/site-packages/sklearn/grid_search.py:43: DeprecationWarning: This module was deprecated in version 0.18 in favor of the model_selection module into which all the refactored classes and functions are moved. This module will be removed in 0.20.\n",
      "  DeprecationWarning)\n"
     ]
    }
   ],
   "source": [
    "import sys\n",
    "sys.path.append(\"../\")\n",
    "from backpain_helper import BackpainHelper\n",
    "from sklearn import datasets, neighbors, metrics,grid_search, model_selection,cross_validation\n",
    "from sklearn.model_selection import train_test_split, GridSearchCV, cross_val_score, KFold\n",
    "from sklearn.metrics import accuracy_score\n",
    "from sklearn.tree import DecisionTreeClassifier\n",
    "from sklearn.ensemble import RandomForestClassifier\n",
    "from sklearn.decomposition import PCA\n",
    "from sklearn.pipeline import Pipeline\n",
    "from sklearn.preprocessing import StandardScaler\n",
    "from sklearn.linear_model import LogisticRegression\n",
    "from sklearn.cross_validation import train_test_split\n",
    "\n",
    "import matplotlib.pyplot as plt\n",
    "import pandas as pd\n",
    "import numpy as np\n",
    "import seaborn as sns\n",
    "from pandas.io import sql\n",
    "import sqlite3\n",
    "%matplotlib inline\n"
   ]
  },
  {
   "cell_type": "markdown",
   "metadata": {},
   "source": [
    "## Finding the best model\n",
    "\n",
    "In this notebook, I ran my data through three models KNN, Random Trees, Logistic Regression, and Scaler Logistic Regression with normal cross validation and nested cross validation.  The best fit model was Scaler Logistic Regression with a best fit of 0.839.  The features with the most influence are degree_spondylolisthesis, pelvic_radius, sacral_slope, and pelvic_tilt.  The chart is at the end of the notebook.\n",
    "\n",
    "I created a helper file to make things resuable and clearer to read in the notebooks.  You can find that here: [backpain_helper.py](https://github.com/nullpointer0x00/ds-sfb/blob/master/backpain/backpain_helper.py)\n",
    "\n",
    "Also, I was able to find the proper way to extract the coef from a model inside a pipeline.  It was easier to read the properties once I put it in the PyCharms debugger.  \n",
    "\n",
    "```\n",
    "gs.best_estimator_.named_steps['model'].coef_\n",
    "```"
   ]
  },
  {
   "cell_type": "markdown",
   "metadata": {},
   "source": [
    "### Loading Dataframe from Helper file(this reads from a csv file and loads it into a sqlite database)"
   ]
  },
  {
   "cell_type": "code",
   "execution_count": 2,
   "metadata": {
    "collapsed": false
   },
   "outputs": [
    {
     "name": "stderr",
     "output_type": "stream",
     "text": [
      "/Users/nullpointer0x00/anaconda2/lib/python2.7/site-packages/pandas/core/generic.py:1362: UserWarning: The spaces in these column names will not be changed. In pandas versions < 0.14, spaces were converted to underscores.\n",
      "  chunksize=chunksize, dtype=dtype)\n"
     ]
    }
   ],
   "source": [
    "bh = BackpainHelper()\n",
    "df = bh.get_spine_data()\n",
    "\n",
    "columns = ['pelvic_incidence', 'pelvic_tilt','lumbar_lordosis_angle','sacral_slope','pelvic_radius','degree_spondylolisthesis','pelvic_slope','direct_tilt','thoracic_slope','cervical_tilt','sacrum_angle','scoliosis_slope']"
   ]
  },
  {
   "cell_type": "markdown",
   "metadata": {},
   "source": [
    "### Best Score from range 1 - 50 of neighbors"
   ]
  },
  {
   "cell_type": "code",
   "execution_count": 3,
   "metadata": {
    "collapsed": false
   },
   "outputs": [
    {
     "name": "stdout",
     "output_type": "stream",
     "text": [
      "KNeighborsClassifier(algorithm='auto', leaf_size=30, metric='minkowski',\n",
      "           metric_params=None, n_jobs=1, n_neighbors=3, p=2,\n",
      "           weights='uniform')\n",
      "0.845161290323\n"
     ]
    }
   ],
   "source": [
    "x = [i for i in range(1, 50)]\n",
    "kf = cross_validation.KFold(len(df), n_folds = 5, shuffle=True)\n",
    "gs = grid_search.GridSearchCV(\n",
    "    estimator=neighbors.KNeighborsClassifier(),\n",
    "    param_grid={'n_neighbors': x, 'weights':['uniform', 'distance']},\n",
    "    cv=kf\n",
    ")\n",
    "gs.fit(df[columns], df.classification)\n",
    "print gs.best_estimator_\n",
    "print gs.best_score_"
   ]
  },
  {
   "cell_type": "markdown",
   "metadata": {},
   "source": [
    "### Random Forest with 5 neighbors and distance as a weight"
   ]
  },
  {
   "cell_type": "code",
   "execution_count": 4,
   "metadata": {
    "collapsed": false
   },
   "outputs": [
    {
     "name": "stdout",
     "output_type": "stream",
     "text": [
      "0.825806451613\n"
     ]
    }
   ],
   "source": [
    "model = RandomForestClassifier(n_estimators = 20)\n",
    "    \n",
    "model.fit(df[columns], df.classification)\n",
    "\n",
    "kf = cross_validation.KFold(len(df), n_folds = 5, shuffle=True)\n",
    "gs = grid_search.GridSearchCV(\n",
    "    estimator=neighbors.KNeighborsClassifier(),\n",
    "    param_grid={'n_neighbors': [5], 'weights':['distance']},\n",
    "    cv=kf\n",
    ")\n",
    "\n",
    "gs.fit(df[columns], df.classification)\n",
    "# print gs.grid_scores_\n",
    "print gs.best_score_"
   ]
  },
  {
   "cell_type": "markdown",
   "metadata": {},
   "source": [
    "## Logistic Regression with logspace -10 -> 10, 21 points"
   ]
  },
  {
   "cell_type": "code",
   "execution_count": 5,
   "metadata": {
    "collapsed": false
   },
   "outputs": [
    {
     "name": "stdout",
     "output_type": "stream",
     "text": [
      "[mean: 0.67742, std: 0.04206, params: {'C': 1e-10}, mean: 0.67742, std: 0.04206, params: {'C': 1.0000000000000001e-09}, mean: 0.67742, std: 0.04206, params: {'C': 1e-08}, mean: 0.67742, std: 0.04206, params: {'C': 9.9999999999999995e-08}, mean: 0.67742, std: 0.04206, params: {'C': 9.9999999999999995e-07}, mean: 0.67419, std: 0.04493, params: {'C': 1.0000000000000001e-05}, mean: 0.76129, std: 0.06321, params: {'C': 0.0001}, mean: 0.80323, std: 0.02581, params: {'C': 0.001}, mean: 0.82258, std: 0.03817, params: {'C': 0.01}, mean: 0.83226, std: 0.03621, params: {'C': 0.10000000000000001}, mean: 0.83226, std: 0.03621, params: {'C': 1.0}, mean: 0.83548, std: 0.03290, params: {'C': 10.0}, mean: 0.84516, std: 0.02621, params: {'C': 100.0}, mean: 0.84516, std: 0.02621, params: {'C': 1000.0}, mean: 0.84194, std: 0.03128, params: {'C': 10000.0}, mean: 0.84516, std: 0.02621, params: {'C': 100000.0}, mean: 0.84516, std: 0.02621, params: {'C': 1000000.0}, mean: 0.84516, std: 0.02621, params: {'C': 10000000.0}, mean: 0.84516, std: 0.02621, params: {'C': 100000000.0}, mean: 0.84194, std: 0.02370, params: {'C': 1000000000.0}, mean: 0.84516, std: 0.02621, params: {'C': 10000000000.0}]\n",
      "LogisticRegression(C=100.0, class_weight=None, dual=False, fit_intercept=True,\n",
      "          intercept_scaling=1, max_iter=100, multi_class='ovr', n_jobs=1,\n",
      "          penalty='l2', random_state=None, solver='liblinear', tol=0.0001,\n",
      "          verbose=0, warm_start=False)\n",
      "0.845161290323\n"
     ]
    }
   ],
   "source": [
    "logistic = LogisticRegression()\n",
    "logistic.fit(df[columns], df.classification)\n",
    "\n",
    "alphas = np.logspace(-10,10,21)\n",
    "kf = cross_validation.KFold(len(df), n_folds = 5, shuffle=True)\n",
    "gs = grid_search.GridSearchCV(\n",
    "    estimator=LogisticRegression(),\n",
    "    param_grid={'C': alphas},\n",
    "    cv=kf\n",
    ")\n",
    "gs.fit(df[columns], df.classification)\n",
    "print gs.grid_scores_\n",
    "print gs.best_estimator_\n",
    "print gs.best_score_"
   ]
  },
  {
   "cell_type": "markdown",
   "metadata": {},
   "source": [
    "### KNN Classifier using nested grid search"
   ]
  },
  {
   "cell_type": "code",
   "execution_count": 6,
   "metadata": {
    "collapsed": false
   },
   "outputs": [
    {
     "name": "stdout",
     "output_type": "stream",
     "text": [
      "0.82285048285\n"
     ]
    }
   ],
   "source": [
    "df = bh.get_spine_data()\n",
    "X_data = df[columns]\n",
    "y_data = df.classification\n",
    "model = neighbors.KNeighborsClassifier()\n",
    "param_grid = {'n_neighbors': [5], 'weights': ['uniform']}\n",
    "print bh.nested_cross_val(model, X_data, y_data, param_grid, 4, 50).mean()"
   ]
  },
  {
   "cell_type": "markdown",
   "metadata": {},
   "source": [
    "### Random Forest Classifier using nested grid search"
   ]
  },
  {
   "cell_type": "code",
   "execution_count": 7,
   "metadata": {
    "collapsed": false
   },
   "outputs": [
    {
     "name": "stdout",
     "output_type": "stream",
     "text": [
      "0.815576090576\n"
     ]
    }
   ],
   "source": [
    "model = RandomForestClassifier(n_estimators = 20)\n",
    "param_grid = {}\n",
    "print bh.nested_cross_val(model, X_data, y_data, param_grid, 4, 50).mean()"
   ]
  },
  {
   "cell_type": "markdown",
   "metadata": {},
   "source": [
    "### Logistic Regression using nested grid search and log space"
   ]
  },
  {
   "cell_type": "code",
   "execution_count": 8,
   "metadata": {
    "collapsed": false
   },
   "outputs": [
    {
     "name": "stdout",
     "output_type": "stream",
     "text": [
      "0.836576756577\n"
     ]
    }
   ],
   "source": [
    "model = LogisticRegression()\n",
    "alphas = np.logspace(-10,10,21)\n",
    "param_grid = {'C':alphas}\n",
    "print bh.nested_cross_val(model, X_data, y_data, param_grid, 4, 50).mean()"
   ]
  },
  {
   "cell_type": "markdown",
   "metadata": {},
   "source": [
    "### Standard Scaler Logistic Regression Pipeline using grid search"
   ]
  },
  {
   "cell_type": "code",
   "execution_count": 10,
   "metadata": {
    "collapsed": false
   },
   "outputs": [
    {
     "name": "stdout",
     "output_type": "stream",
     "text": [
      "0.839094239094\n"
     ]
    }
   ],
   "source": [
    "scaler = StandardScaler()\n",
    "logistic_model = LogisticRegression()\n",
    "modeling_pipe = Pipeline([('scale',scaler),('model',logistic_model)])\n",
    "modeling_pipe.set_params(model__C = 100)\n",
    "print bh.nested_cross_val(modeling_pipe, X_data, y_data, {}, 4, 50).mean()"
   ]
  },
  {
   "cell_type": "markdown",
   "metadata": {},
   "source": [
    "### Pipeline(Scaler/Logistic Regression) is the best estimator, Determining the important features "
   ]
  },
  {
   "cell_type": "code",
   "execution_count": 11,
   "metadata": {
    "collapsed": false
   },
   "outputs": [
    {
     "name": "stdout",
     "output_type": "stream",
     "text": [
      "[ 0.26409788  0.95837093  0.40408272  1.05369244  1.39278081  6.34164027\n",
      "  0.06066534  0.11645368  0.17568931  0.14291768  0.05918608  0.10179986]\n"
     ]
    },
    {
     "data": {
      "text/html": [
       "<div>\n",
       "<style>\n",
       "    .dataframe thead tr:only-child th {\n",
       "        text-align: right;\n",
       "    }\n",
       "\n",
       "    .dataframe thead th {\n",
       "        text-align: left;\n",
       "    }\n",
       "\n",
       "    .dataframe tbody tr th {\n",
       "        vertical-align: top;\n",
       "    }\n",
       "</style>\n",
       "<table border=\"1\" class=\"dataframe\">\n",
       "  <thead>\n",
       "    <tr style=\"text-align: right;\">\n",
       "      <th></th>\n",
       "      <th>Features</th>\n",
       "      <th>Importance Score</th>\n",
       "    </tr>\n",
       "  </thead>\n",
       "  <tbody>\n",
       "    <tr>\n",
       "      <th>5</th>\n",
       "      <td>degree_spondylolisthesis</td>\n",
       "      <td>6.341640</td>\n",
       "    </tr>\n",
       "    <tr>\n",
       "      <th>4</th>\n",
       "      <td>pelvic_radius</td>\n",
       "      <td>1.392781</td>\n",
       "    </tr>\n",
       "    <tr>\n",
       "      <th>3</th>\n",
       "      <td>sacral_slope</td>\n",
       "      <td>1.053692</td>\n",
       "    </tr>\n",
       "    <tr>\n",
       "      <th>1</th>\n",
       "      <td>pelvic_tilt</td>\n",
       "      <td>0.958371</td>\n",
       "    </tr>\n",
       "    <tr>\n",
       "      <th>2</th>\n",
       "      <td>lumbar_lordosis_angle</td>\n",
       "      <td>0.404083</td>\n",
       "    </tr>\n",
       "    <tr>\n",
       "      <th>0</th>\n",
       "      <td>pelvic_incidence</td>\n",
       "      <td>0.264098</td>\n",
       "    </tr>\n",
       "    <tr>\n",
       "      <th>8</th>\n",
       "      <td>thoracic_slope</td>\n",
       "      <td>0.175689</td>\n",
       "    </tr>\n",
       "    <tr>\n",
       "      <th>9</th>\n",
       "      <td>cervical_tilt</td>\n",
       "      <td>0.142918</td>\n",
       "    </tr>\n",
       "    <tr>\n",
       "      <th>7</th>\n",
       "      <td>direct_tilt</td>\n",
       "      <td>0.116454</td>\n",
       "    </tr>\n",
       "    <tr>\n",
       "      <th>11</th>\n",
       "      <td>scoliosis_slope</td>\n",
       "      <td>0.101800</td>\n",
       "    </tr>\n",
       "    <tr>\n",
       "      <th>6</th>\n",
       "      <td>pelvic_slope</td>\n",
       "      <td>0.060665</td>\n",
       "    </tr>\n",
       "    <tr>\n",
       "      <th>10</th>\n",
       "      <td>sacrum_angle</td>\n",
       "      <td>0.059186</td>\n",
       "    </tr>\n",
       "  </tbody>\n",
       "</table>\n",
       "</div>"
      ],
      "text/plain": [
       "                    Features  Importance Score\n",
       "5   degree_spondylolisthesis          6.341640\n",
       "4              pelvic_radius          1.392781\n",
       "3               sacral_slope          1.053692\n",
       "1                pelvic_tilt          0.958371\n",
       "2      lumbar_lordosis_angle          0.404083\n",
       "0           pelvic_incidence          0.264098\n",
       "8             thoracic_slope          0.175689\n",
       "9              cervical_tilt          0.142918\n",
       "7                direct_tilt          0.116454\n",
       "11           scoliosis_slope          0.101800\n",
       "6               pelvic_slope          0.060665\n",
       "10              sacrum_angle          0.059186"
      ]
     },
     "execution_count": 11,
     "metadata": {},
     "output_type": "execute_result"
    }
   ],
   "source": [
    "kf = cross_validation.KFold(len(df), n_folds = 5, shuffle=True)\n",
    "gs = grid_search.GridSearchCV(\n",
    "    estimator=modeling_pipe,\n",
    "    param_grid={},\n",
    "    cv=kf\n",
    ")\n",
    "gs.fit(df[columns], df.classification)\n",
    "features = df[columns]\n",
    "feature_importances = np.absolute(gs.best_estimator_.named_steps['model'].coef_)[0]\n",
    "print feature_importances\n",
    "features_df = pd.DataFrame({'Features': columns, 'Importance Score': feature_importances})\n",
    "features_df.sort_values('Importance Score', inplace=True, ascending=False)\n",
    "features_df.head(12)"
   ]
  },
  {
   "cell_type": "code",
   "execution_count": 17,
   "metadata": {
    "collapsed": false
   },
   "outputs": [
    {
     "name": "stdout",
     "output_type": "stream",
     "text": [
      "(310, 7)\n",
      "[-37.41475462  18.98494214  12.7619265   -8.23505044  10.47546277\n",
      "  -2.19129375   4.29116715]\n"
     ]
    }
   ],
   "source": [
    "pca = PCA(n_components = .95, svd_solver = 'full')\n",
    "X_digits_transf = pca.fit_transform(df[columns])\n",
    "print X_digits_transf.shape\n",
    "print X_digits_transf[1,:]"
   ]
  }
 ],
 "metadata": {
  "anaconda-cloud": {},
  "kernelspec": {
   "display_name": "Python [default]",
   "language": "python",
   "name": "python2"
  },
  "language_info": {
   "codemirror_mode": {
    "name": "ipython",
    "version": 2
   },
   "file_extension": ".py",
   "mimetype": "text/x-python",
   "name": "python",
   "nbconvert_exporter": "python",
   "pygments_lexer": "ipython2",
   "version": "2.7.12"
  }
 },
 "nbformat": 4,
 "nbformat_minor": 0
}
