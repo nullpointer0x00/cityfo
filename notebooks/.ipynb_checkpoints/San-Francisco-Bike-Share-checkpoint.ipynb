{
 "cells": [
  {
   "cell_type": "code",
   "execution_count": 8,
   "metadata": {
    "collapsed": false
   },
   "outputs": [
    {
     "data": {
      "text/html": [
       "<script type=\"text/javascript\" src=\"https://www.gstatic.com/charts/loader.js\"></script>"
      ],
      "text/plain": [
       "<IPython.core.display.HTML object>"
      ]
     },
     "metadata": {},
     "output_type": "display_data"
    }
   ],
   "source": [
    "import sys\n",
    "sys.path.append(\"../\")\n",
    "from IPython.core.display import display, HTML\n",
    "from database import MySqlDataSouce\n",
    "from map_stations import MapStations\n",
    "import pandas as pd\n",
    "\n",
    "# dao = MySqlDataSouce()\n",
    "# results = dao.fetch_all_stations()\n",
    "# for\n",
    "\n",
    "# df = pd.read_sql(\"SELECT * FROM station\", con = dao.get_connection())\n",
    "# print df.head()\n",
    "html = HTML(MapStations().html())\n",
    "# %%HTML\n",
    "# print MapStations().html()"
   ]
  }
 ],
 "metadata": {
  "anaconda-cloud": {},
  "kernelspec": {
   "display_name": "Python [conda root]",
   "language": "python",
   "name": "conda-root-py"
  },
  "language_info": {
   "codemirror_mode": {
    "name": "ipython",
    "version": 2
   },
   "file_extension": ".py",
   "mimetype": "text/x-python",
   "name": "python",
   "nbconvert_exporter": "python",
   "pygments_lexer": "ipython2",
   "version": "2.7.12"
  }
 },
 "nbformat": 4,
 "nbformat_minor": 1
}
